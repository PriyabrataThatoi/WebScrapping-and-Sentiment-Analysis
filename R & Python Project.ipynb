{
 "cells": [
  {
   "cell_type": "markdown",
   "metadata": {},
   "source": [
    "### Libraries"
   ]
  },
  {
   "cell_type": "code",
   "execution_count": 72,
   "metadata": {},
   "outputs": [
    {
     "name": "stderr",
     "output_type": "stream",
     "text": [
      "[nltk_data] Downloading package stopwords to\n",
      "[nltk_data]     C:\\Users\\Thatoi\\AppData\\Roaming\\nltk_data...\n",
      "[nltk_data]   Package stopwords is already up-to-date!\n",
      "[nltk_data] Downloading package wordnet to\n",
      "[nltk_data]     C:\\Users\\Thatoi\\AppData\\Roaming\\nltk_data...\n",
      "[nltk_data]   Package wordnet is already up-to-date!\n",
      "[nltk_data] Downloading package averaged_perceptron_tagger to\n",
      "[nltk_data]     C:\\Users\\Thatoi\\AppData\\Roaming\\nltk_data...\n",
      "[nltk_data]   Package averaged_perceptron_tagger is already up-to-\n",
      "[nltk_data]       date!\n",
      "[nltk_data] Downloading package punkt to\n",
      "[nltk_data]     C:\\Users\\Thatoi\\AppData\\Roaming\\nltk_data...\n",
      "[nltk_data]   Package punkt is already up-to-date!\n",
      "[nltk_data] Downloading package maxent_ne_chunker to\n",
      "[nltk_data]     C:\\Users\\Thatoi\\AppData\\Roaming\\nltk_data...\n",
      "[nltk_data]   Package maxent_ne_chunker is already up-to-date!\n",
      "[nltk_data] Downloading package words to\n",
      "[nltk_data]     C:\\Users\\Thatoi\\AppData\\Roaming\\nltk_data...\n",
      "[nltk_data]   Package words is already up-to-date!\n"
     ]
    }
   ],
   "source": [
    "import os\n",
    "import pandas as pd\n",
    "import re\n",
    "pd.options.display.float_format = '{:.2f}'.format\n",
    "import unicodedata\n",
    "import nltk\n",
    "nltk.download('stopwords')\n",
    "from nltk.corpus import stopwords\n",
    "import warnings\n",
    "warnings.filterwarnings(\"ignore\")\n",
    "from nltk.stem.porter import PorterStemmer\n",
    "from nltk.stem import WordNetLemmatizer\n",
    "nltk.download('wordnet')\n",
    "from sklearn.feature_extraction.text import CountVectorizer\n",
    "import matplotlib.pyplot as plt\n",
    "from textblob import TextBlob\n",
    "from wordcloud import WordCloud, STOPWORDS, ImageColorGenerator\n",
    "nltk.download('averaged_perceptron_tagger')\n",
    "from nltk import word_tokenize, pos_tag, pos_tag_sents\n",
    "nltk.download('punkt')\n",
    "from nltk import word_tokenize, pos_tag, ne_chunk\n",
    "nltk.download('maxent_ne_chunker')\n",
    "nltk.download('words')\n",
    "from sklearn.decomposition import LatentDirichletAllocation\n",
    "from sklearn.feature_extraction.text import TfidfVectorizer\n",
    "from sklearn.decomposition import NMF"
   ]
  },
  {
   "cell_type": "code",
   "execution_count": 5,
   "metadata": {},
   "outputs": [],
   "source": [
    "os.chdir(r\"C:\\important_files\")\n",
    "data = pd.read_csv('iPhone.csv',parse_dates = True)"
   ]
  },
  {
   "cell_type": "code",
   "execution_count": 6,
   "metadata": {},
   "outputs": [
    {
     "data": {
      "text/html": [
       "<div>\n",
       "<style scoped>\n",
       "    .dataframe tbody tr th:only-of-type {\n",
       "        vertical-align: middle;\n",
       "    }\n",
       "\n",
       "    .dataframe tbody tr th {\n",
       "        vertical-align: top;\n",
       "    }\n",
       "\n",
       "    .dataframe thead th {\n",
       "        text-align: right;\n",
       "    }\n",
       "</style>\n",
       "<table border=\"1\" class=\"dataframe\">\n",
       "  <thead>\n",
       "    <tr style=\"text-align: right;\">\n",
       "      <th></th>\n",
       "      <th>Unnamed: 0</th>\n",
       "      <th>fullname</th>\n",
       "      <th>html</th>\n",
       "      <th>is_retweet</th>\n",
       "      <th>likes</th>\n",
       "      <th>replies</th>\n",
       "      <th>retweet_id</th>\n",
       "      <th>retweeter_userid</th>\n",
       "      <th>retweeter_username</th>\n",
       "      <th>retweets</th>\n",
       "      <th>text</th>\n",
       "      <th>timestamp</th>\n",
       "      <th>timestamp_epochs</th>\n",
       "      <th>tweet_id</th>\n",
       "      <th>tweet_url</th>\n",
       "      <th>user_id</th>\n",
       "      <th>username</th>\n",
       "    </tr>\n",
       "  </thead>\n",
       "  <tbody>\n",
       "    <tr>\n",
       "      <th>0</th>\n",
       "      <td>0</td>\n",
       "      <td>Marek Dvořák</td>\n",
       "      <td>&lt;p class=\"TweetTextSize js-tweet-text tweet-te...</td>\n",
       "      <td>0</td>\n",
       "      <td>0</td>\n",
       "      <td>0</td>\n",
       "      <td>nan</td>\n",
       "      <td>nan</td>\n",
       "      <td>nan</td>\n",
       "      <td>0</td>\n",
       "      <td>iDrop News is giving away a free iPhone 11 in ...</td>\n",
       "      <td>2019-10-30 23:59:44</td>\n",
       "      <td>2019-10-30 23:59:44</td>\n",
       "      <td>1189693400834101248</td>\n",
       "      <td>/marekdvorak6666/status/1189693400834101250</td>\n",
       "      <td>1376342479</td>\n",
       "      <td>marekdvorak6666</td>\n",
       "    </tr>\n",
       "    <tr>\n",
       "      <th>1</th>\n",
       "      <td>1</td>\n",
       "      <td>Terri</td>\n",
       "      <td>&lt;p class=\"TweetTextSize js-tweet-text tweet-te...</td>\n",
       "      <td>0</td>\n",
       "      <td>0</td>\n",
       "      <td>0</td>\n",
       "      <td>nan</td>\n",
       "      <td>nan</td>\n",
       "      <td>nan</td>\n",
       "      <td>0</td>\n",
       "      <td>I entered @skinit's iPhone 11 Giveaway for a c...</td>\n",
       "      <td>2019-10-30 23:59:40</td>\n",
       "      <td>2019-10-30 23:59:40</td>\n",
       "      <td>1189693383037669376</td>\n",
       "      <td>/AtTheMapleTable/status/1189693383037669379</td>\n",
       "      <td>118994120</td>\n",
       "      <td>AtTheMapleTable</td>\n",
       "    </tr>\n",
       "    <tr>\n",
       "      <th>2</th>\n",
       "      <td>2</td>\n",
       "      <td>AuntySuzany</td>\n",
       "      <td>&lt;p class=\"TweetTextSize js-tweet-text tweet-te...</td>\n",
       "      <td>0</td>\n",
       "      <td>0</td>\n",
       "      <td>0</td>\n",
       "      <td>nan</td>\n",
       "      <td>nan</td>\n",
       "      <td>nan</td>\n",
       "      <td>0</td>\n",
       "      <td>Enter for Your Chance to Win an iPhone 11 256G...</td>\n",
       "      <td>2019-10-30 23:59:40</td>\n",
       "      <td>2019-10-30 23:59:40</td>\n",
       "      <td>1189693381200564224</td>\n",
       "      <td>/AuntySuzany/status/1189693381200564224</td>\n",
       "      <td>1056680085904744448</td>\n",
       "      <td>AuntySuzany</td>\n",
       "    </tr>\n",
       "    <tr>\n",
       "      <th>3</th>\n",
       "      <td>3</td>\n",
       "      <td>boojay</td>\n",
       "      <td>&lt;p class=\"TweetTextSize js-tweet-text tweet-te...</td>\n",
       "      <td>0</td>\n",
       "      <td>56</td>\n",
       "      <td>1</td>\n",
       "      <td>nan</td>\n",
       "      <td>nan</td>\n",
       "      <td>nan</td>\n",
       "      <td>2</td>\n",
       "      <td>Okay the new iPhone 11 Pro is _really_ good at...</td>\n",
       "      <td>2019-10-30 23:59:37</td>\n",
       "      <td>2019-10-30 23:59:37</td>\n",
       "      <td>1189693371008184320</td>\n",
       "      <td>/bluejay_712/status/1189693371008184320</td>\n",
       "      <td>17113293</td>\n",
       "      <td>bluejay_712</td>\n",
       "    </tr>\n",
       "    <tr>\n",
       "      <th>4</th>\n",
       "      <td>4</td>\n",
       "      <td>mucci_thatboi_ed</td>\n",
       "      <td>&lt;p class=\"TweetTextSize js-tweet-text tweet-te...</td>\n",
       "      <td>0</td>\n",
       "      <td>1</td>\n",
       "      <td>1</td>\n",
       "      <td>nan</td>\n",
       "      <td>nan</td>\n",
       "      <td>nan</td>\n",
       "      <td>0</td>\n",
       "      <td>You know it brooo  @iPhone11</td>\n",
       "      <td>2019-10-30 23:59:27</td>\n",
       "      <td>2019-10-30 23:59:27</td>\n",
       "      <td>1189693327299489792</td>\n",
       "      <td>/machiya_mucci_/status/1189693327299489793</td>\n",
       "      <td>1023677118411145216</td>\n",
       "      <td>machiya_mucci_</td>\n",
       "    </tr>\n",
       "  </tbody>\n",
       "</table>\n",
       "</div>"
      ],
      "text/plain": [
       "   Unnamed: 0          fullname  \\\n",
       "0           0      Marek Dvořák   \n",
       "1           1             Terri   \n",
       "2           2       AuntySuzany   \n",
       "3           3            boojay   \n",
       "4           4  mucci_thatboi_ed   \n",
       "\n",
       "                                                html  is_retweet  likes  \\\n",
       "0  <p class=\"TweetTextSize js-tweet-text tweet-te...           0      0   \n",
       "1  <p class=\"TweetTextSize js-tweet-text tweet-te...           0      0   \n",
       "2  <p class=\"TweetTextSize js-tweet-text tweet-te...           0      0   \n",
       "3  <p class=\"TweetTextSize js-tweet-text tweet-te...           0     56   \n",
       "4  <p class=\"TweetTextSize js-tweet-text tweet-te...           0      1   \n",
       "\n",
       "   replies  retweet_id  retweeter_userid  retweeter_username  retweets  \\\n",
       "0        0         nan               nan                 nan         0   \n",
       "1        0         nan               nan                 nan         0   \n",
       "2        0         nan               nan                 nan         0   \n",
       "3        1         nan               nan                 nan         2   \n",
       "4        1         nan               nan                 nan         0   \n",
       "\n",
       "                                                text            timestamp  \\\n",
       "0  iDrop News is giving away a free iPhone 11 in ...  2019-10-30 23:59:44   \n",
       "1  I entered @skinit's iPhone 11 Giveaway for a c...  2019-10-30 23:59:40   \n",
       "2  Enter for Your Chance to Win an iPhone 11 256G...  2019-10-30 23:59:40   \n",
       "3  Okay the new iPhone 11 Pro is _really_ good at...  2019-10-30 23:59:37   \n",
       "4                       You know it brooo  @iPhone11  2019-10-30 23:59:27   \n",
       "\n",
       "      timestamp_epochs             tweet_id  \\\n",
       "0  2019-10-30 23:59:44  1189693400834101248   \n",
       "1  2019-10-30 23:59:40  1189693383037669376   \n",
       "2  2019-10-30 23:59:40  1189693381200564224   \n",
       "3  2019-10-30 23:59:37  1189693371008184320   \n",
       "4  2019-10-30 23:59:27  1189693327299489792   \n",
       "\n",
       "                                     tweet_url              user_id  \\\n",
       "0  /marekdvorak6666/status/1189693400834101250           1376342479   \n",
       "1  /AtTheMapleTable/status/1189693383037669379            118994120   \n",
       "2      /AuntySuzany/status/1189693381200564224  1056680085904744448   \n",
       "3      /bluejay_712/status/1189693371008184320             17113293   \n",
       "4   /machiya_mucci_/status/1189693327299489793  1023677118411145216   \n",
       "\n",
       "          username  \n",
       "0  marekdvorak6666  \n",
       "1  AtTheMapleTable  \n",
       "2      AuntySuzany  \n",
       "3      bluejay_712  \n",
       "4   machiya_mucci_  "
      ]
     },
     "execution_count": 6,
     "metadata": {},
     "output_type": "execute_result"
    }
   ],
   "source": [
    "data.head()"
   ]
  },
  {
   "cell_type": "markdown",
   "metadata": {},
   "source": [
    "### Data assessment"
   ]
  },
  {
   "cell_type": "code",
   "execution_count": 7,
   "metadata": {},
   "outputs": [],
   "source": [
    "# converting datetime column to datetime datatype\n",
    "data['timestamp'] = pd.to_datetime(data['timestamp'])"
   ]
  },
  {
   "cell_type": "code",
   "execution_count": 8,
   "metadata": {},
   "outputs": [
    {
     "name": "stdout",
     "output_type": "stream",
     "text": [
      "11158\n",
      "15209\n",
      "14243\n"
     ]
    }
   ],
   "source": [
    "# record assessment before removing duplicates\n",
    "print(data['user_id'].nunique())\n",
    "print(data['tweet_id'].nunique())\n",
    "print(data['text'].nunique())"
   ]
  },
  {
   "cell_type": "code",
   "execution_count": 9,
   "metadata": {},
   "outputs": [
    {
     "name": "stdout",
     "output_type": "stream",
     "text": [
      "10449\n",
      "14123\n",
      "14243\n",
      "(14243, 17)\n"
     ]
    }
   ],
   "source": [
    "# removing duplicate tweets from dataset\n",
    "new_data=data.drop_duplicates(subset=['text'],keep='first')\n",
    "print(new_data['user_id'].nunique())\n",
    "print(new_data['tweet_id'].nunique())\n",
    "print(new_data['text'].nunique())\n",
    "print(new_data.shape)"
   ]
  },
  {
   "cell_type": "markdown",
   "metadata": {},
   "source": [
    "### Cleaning with Regex"
   ]
  },
  {
   "cell_type": "code",
   "execution_count": 10,
   "metadata": {},
   "outputs": [],
   "source": [
    "def preprocessor(text):\n",
    "    '''\n",
    "    definition to remove : HTML markups,\n",
    "    http urls,special characters & emoticons\n",
    "    and converting into a lowercase\n",
    "    \n",
    "    '''\n",
    "    \n",
    "    #substitute HTML markups\n",
    "    text1 = re.sub('<[^>]*>', '', text)\n",
    "    emoticons = re.findall('(?::|;|=)(?:-)?(?:\\)|\\(|D|P)',\n",
    "                           text)\n",
    "    \n",
    "    #lowecase and join emoticons\n",
    "    text2 = (re.sub('[\\W]+', ' ', text1.lower()) +\n",
    "            ' '.join(emoticons).replace('-', ''))\n",
    "    \n",
    "    #remove https://url\n",
    "    text3 = re.sub(r'(?i)\\b((?:https?://|www\\d{0,3}[.]|[a-z0-9.\\-]+[.][a-z]{2,4}/)(?:[^\\s()<>]+|\\(([^\\s()<>]+|(\\([^\\s()<>]+\\)))*\\))+(?:\\(([^\\s()<>]+|(\\([^\\s()<>]+\\)))*\\)|[^\\s`!()\\[\\]{};:\\'\".,<>?«»“”‘’]))', '', text2)\n",
    "    \n",
    "    #remove line breaks\n",
    "    text4 = re.sub(\"\\n\", \"\", text3)\n",
    "    \n",
    "    #non-ASCII characters\n",
    "    text5 = re.sub(r'[^\\x00-\\x7F]+',' ', text4)\n",
    "    \n",
    "    #text = re.sub(r'^https?:\\/\\/.*[\\r\\n]*', \"\", text, flags=re.MULTILINE)\n",
    "    \n",
    "    text6 = re.sub(r'[a-z]*[:.]+\\S+','',text5)\n",
    "    text7 = re.sub(r\"[^a-zA-Z0-9]+\", ' ',text6)\n",
    "    #text8 = re.sub(r\"?:https?://\",'',text7)\n",
    "    \n",
    "    return text7"
   ]
  },
  {
   "cell_type": "code",
   "execution_count": 11,
   "metadata": {},
   "outputs": [
    {
     "data": {
      "text/plain": [
       "'My 7th #Watercolor #Art attempt with #iPhone8plus #Morning in #RealTime #NoFilter #NoFilterNeeded #Trees #Country #Grass #Meadow #Countryside #Sun #Photography #Landscape #LandscapePhotography #igers #Nature… https://www.instagram.com/p/B4AcQkPHX7v/?igshid=nott7g6l5gm3\\xa0…'"
      ]
     },
     "execution_count": 11,
     "metadata": {},
     "output_type": "execute_result"
    }
   ],
   "source": [
    "# Before cleaning\n",
    "new_data['text'].iloc[12888]"
   ]
  },
  {
   "cell_type": "code",
   "execution_count": 12,
   "metadata": {},
   "outputs": [
    {
     "data": {
      "text/plain": [
       "'my 7th watercolor art attempt with iphone8plus morning in realtime nofilter nofilterneeded trees country grass meadow countryside sun photography landscape landscapephotography igers nature https www instagram com p b4acqkphx7v igshid nott7g6l5gm3 '"
      ]
     },
     "execution_count": 12,
     "metadata": {},
     "output_type": "execute_result"
    }
   ],
   "source": [
    "# Clean text\n",
    "preprocessor(new_data['text'].iloc[12888])"
   ]
  },
  {
   "cell_type": "code",
   "execution_count": 13,
   "metadata": {},
   "outputs": [
    {
     "name": "stdout",
     "output_type": "stream",
     "text": [
      "(14243, 2)\n"
     ]
    }
   ],
   "source": [
    "new_data['cleantext'] = new_data['text'].apply(preprocessor)\n",
    "\n",
    "data2 = new_data['cleantext']\n",
    "\n",
    "data2=data2.reset_index()\n",
    "\n",
    "print(data2.shape)"
   ]
  },
  {
   "cell_type": "code",
   "execution_count": 88,
   "metadata": {
    "scrolled": true
   },
   "outputs": [],
   "source": [
    "# Removing unwanted words  : http , www, twitter, com\n",
    "remove_list = ['http','www','com','twitter']\n",
    "data2['cleantext'] = data2['cleantext'] .apply(lambda x: \" \".join(x for x in x.split() if x not in remove_list))"
   ]
  },
  {
   "cell_type": "markdown",
   "metadata": {},
   "source": [
    "### Tokenization -- Stemming -- Stopword removal -- Count Vector"
   ]
  },
  {
   "cell_type": "code",
   "execution_count": 14,
   "metadata": {},
   "outputs": [
    {
     "name": "stdout",
     "output_type": "stream",
     "text": [
      "0    idrop news give away free iphon 11 februari en...\n",
      "1    enter skinit iphon 11 giveaway chanc win brand...\n",
      "2    enter chanc win iphon 11 256gb airpod special ...\n",
      "3    okay new iphon 11 pro realli good video shit b...\n",
      "4                                  know brooo iphone11\n",
      "Name: cleantext, dtype: object\n"
     ]
    }
   ],
   "source": [
    "# STOP WORD REMOVAL\n",
    "stop = stopwords.words('english')\n",
    "data2['cleantext'] = data2['cleantext'] .apply(lambda x: \" \".join(x for x in x.split() if x not in stop))\n",
    "\n",
    "# STEMMING\n",
    "porter = PorterStemmer()\n",
    "data2['cleantext'] = data2['cleantext'].apply(lambda x: \" \".join([porter.stem(word) for word in x.split()]))\n",
    "\n",
    "# LEMMATIZE\n",
    "lemmatizer = WordNetLemmatizer()\n",
    "data2['cleantext'] = data2['cleantext'].apply(lambda x: \" \".join([lemmatizer.lemmatize(word) for word in x.split()]))\n",
    "\n",
    "print(data2['cleantext'].head())"
   ]
  },
  {
   "cell_type": "code",
   "execution_count": 15,
   "metadata": {},
   "outputs": [
    {
     "data": {
      "text/html": [
       "<div>\n",
       "<style scoped>\n",
       "    .dataframe tbody tr th:only-of-type {\n",
       "        vertical-align: middle;\n",
       "    }\n",
       "\n",
       "    .dataframe tbody tr th {\n",
       "        vertical-align: top;\n",
       "    }\n",
       "\n",
       "    .dataframe thead th {\n",
       "        text-align: right;\n",
       "    }\n",
       "</style>\n",
       "<table border=\"1\" class=\"dataframe\">\n",
       "  <thead>\n",
       "    <tr style=\"text-align: right;\">\n",
       "      <th></th>\n",
       "      <th>00</th>\n",
       "      <th>000</th>\n",
       "      <th>0000</th>\n",
       "      <th>0001</th>\n",
       "      <th>000694</th>\n",
       "      <th>000f</th>\n",
       "      <th>000k</th>\n",
       "      <th>000sdg</th>\n",
       "      <th>001</th>\n",
       "      <th>0086</th>\n",
       "      <th>...</th>\n",
       "      <th>zynpsyctng</th>\n",
       "      <th>zyohbqcz7c</th>\n",
       "      <th>zz</th>\n",
       "      <th>zz3zcbilna</th>\n",
       "      <th>zzab1dwud6</th>\n",
       "      <th>zzel3g</th>\n",
       "      <th>zzhnnxpf8</th>\n",
       "      <th>zzp6ltlxlr</th>\n",
       "      <th>zztbwy2lea3</th>\n",
       "      <th>zzz</th>\n",
       "    </tr>\n",
       "  </thead>\n",
       "  <tbody>\n",
       "    <tr>\n",
       "      <th>0</th>\n",
       "      <td>0</td>\n",
       "      <td>0</td>\n",
       "      <td>0</td>\n",
       "      <td>0</td>\n",
       "      <td>0</td>\n",
       "      <td>0</td>\n",
       "      <td>0</td>\n",
       "      <td>0</td>\n",
       "      <td>0</td>\n",
       "      <td>0</td>\n",
       "      <td>...</td>\n",
       "      <td>0</td>\n",
       "      <td>0</td>\n",
       "      <td>0</td>\n",
       "      <td>0</td>\n",
       "      <td>0</td>\n",
       "      <td>0</td>\n",
       "      <td>0</td>\n",
       "      <td>0</td>\n",
       "      <td>0</td>\n",
       "      <td>0</td>\n",
       "    </tr>\n",
       "    <tr>\n",
       "      <th>1</th>\n",
       "      <td>0</td>\n",
       "      <td>0</td>\n",
       "      <td>0</td>\n",
       "      <td>0</td>\n",
       "      <td>0</td>\n",
       "      <td>0</td>\n",
       "      <td>0</td>\n",
       "      <td>0</td>\n",
       "      <td>0</td>\n",
       "      <td>0</td>\n",
       "      <td>...</td>\n",
       "      <td>0</td>\n",
       "      <td>0</td>\n",
       "      <td>0</td>\n",
       "      <td>0</td>\n",
       "      <td>0</td>\n",
       "      <td>0</td>\n",
       "      <td>0</td>\n",
       "      <td>0</td>\n",
       "      <td>0</td>\n",
       "      <td>0</td>\n",
       "    </tr>\n",
       "    <tr>\n",
       "      <th>2</th>\n",
       "      <td>0</td>\n",
       "      <td>0</td>\n",
       "      <td>0</td>\n",
       "      <td>0</td>\n",
       "      <td>0</td>\n",
       "      <td>0</td>\n",
       "      <td>0</td>\n",
       "      <td>0</td>\n",
       "      <td>0</td>\n",
       "      <td>0</td>\n",
       "      <td>...</td>\n",
       "      <td>0</td>\n",
       "      <td>0</td>\n",
       "      <td>0</td>\n",
       "      <td>0</td>\n",
       "      <td>0</td>\n",
       "      <td>0</td>\n",
       "      <td>0</td>\n",
       "      <td>0</td>\n",
       "      <td>0</td>\n",
       "      <td>0</td>\n",
       "    </tr>\n",
       "    <tr>\n",
       "      <th>3</th>\n",
       "      <td>0</td>\n",
       "      <td>0</td>\n",
       "      <td>0</td>\n",
       "      <td>0</td>\n",
       "      <td>0</td>\n",
       "      <td>0</td>\n",
       "      <td>0</td>\n",
       "      <td>0</td>\n",
       "      <td>0</td>\n",
       "      <td>0</td>\n",
       "      <td>...</td>\n",
       "      <td>0</td>\n",
       "      <td>0</td>\n",
       "      <td>0</td>\n",
       "      <td>0</td>\n",
       "      <td>0</td>\n",
       "      <td>0</td>\n",
       "      <td>0</td>\n",
       "      <td>0</td>\n",
       "      <td>0</td>\n",
       "      <td>0</td>\n",
       "    </tr>\n",
       "    <tr>\n",
       "      <th>4</th>\n",
       "      <td>0</td>\n",
       "      <td>0</td>\n",
       "      <td>0</td>\n",
       "      <td>0</td>\n",
       "      <td>0</td>\n",
       "      <td>0</td>\n",
       "      <td>0</td>\n",
       "      <td>0</td>\n",
       "      <td>0</td>\n",
       "      <td>0</td>\n",
       "      <td>...</td>\n",
       "      <td>0</td>\n",
       "      <td>0</td>\n",
       "      <td>0</td>\n",
       "      <td>0</td>\n",
       "      <td>0</td>\n",
       "      <td>0</td>\n",
       "      <td>0</td>\n",
       "      <td>0</td>\n",
       "      <td>0</td>\n",
       "      <td>0</td>\n",
       "    </tr>\n",
       "  </tbody>\n",
       "</table>\n",
       "<p>5 rows × 26453 columns</p>\n",
       "</div>"
      ],
      "text/plain": [
       "   00  000  0000  0001  000694  000f  000k  000sdg  001  0086  ...  \\\n",
       "0   0    0     0     0       0     0     0       0    0     0  ...   \n",
       "1   0    0     0     0       0     0     0       0    0     0  ...   \n",
       "2   0    0     0     0       0     0     0       0    0     0  ...   \n",
       "3   0    0     0     0       0     0     0       0    0     0  ...   \n",
       "4   0    0     0     0       0     0     0       0    0     0  ...   \n",
       "\n",
       "   zynpsyctng  zyohbqcz7c  zz  zz3zcbilna  zzab1dwud6  zzel3g  zzhnnxpf8  \\\n",
       "0           0           0   0           0           0       0          0   \n",
       "1           0           0   0           0           0       0          0   \n",
       "2           0           0   0           0           0       0          0   \n",
       "3           0           0   0           0           0       0          0   \n",
       "4           0           0   0           0           0       0          0   \n",
       "\n",
       "   zzp6ltlxlr  zztbwy2lea3  zzz  \n",
       "0           0            0    0  \n",
       "1           0            0    0  \n",
       "2           0            0    0  \n",
       "3           0            0    0  \n",
       "4           0            0    0  \n",
       "\n",
       "[5 rows x 26453 columns]"
      ]
     },
     "execution_count": 15,
     "metadata": {},
     "output_type": "execute_result"
    }
   ],
   "source": [
    "vectorizer = CountVectorizer()\n",
    "tokens_data = pd.DataFrame(vectorizer.fit_transform(data2['cleantext']).toarray(), columns=vectorizer.get_feature_names())\n",
    "\n",
    "tokens_data.head()"
   ]
  },
  {
   "cell_type": "code",
   "execution_count": 16,
   "metadata": {},
   "outputs": [
    {
     "data": {
      "text/plain": [
       "Text(0.5, 1.0, 'Most popular iPhone models')"
      ]
     },
     "execution_count": 16,
     "metadata": {},
     "output_type": "execute_result"
    },
    {
     "data": {
      "image/png": "[encoded data removed]",
      "text/plain": [
       "<Figure size 1152x576 with 1 Axes>"
      ]
     },
     "metadata": {
      "needs_background": "light"
     },
     "output_type": "display_data"
    }
   ],
   "source": [
    "a=pd.DataFrame(tokens_data.sum(axis=0,skipna=True))\n",
    "top30=a.rename(columns={0:'count'}).reset_index().rename(columns={'index':'word'}).sort_values(by='count',ascending=False)\n",
    "\n",
    "list_iphone = ['11','xs','pro','max','iphonex','xr','x','iphone7','iphone8','iphone8plus','iphonexsmax']\n",
    "top30[top30['word'].isin(list_iphone)].plot(y='count',x='word',kind='bar',color='lightblue',figsize=(16,8),fontsize = 15)\n",
    "plt.xlabel('Most Frequent Words',fontsize = 15);\n",
    "plt.ylabel('Frequency',fontsize = 15)\n",
    "plt.title('Most popular iPhone models', fontsize = 15)"
   ]
  },
  {
   "cell_type": "markdown",
   "metadata": {},
   "source": [
    "### Sentiment Analysis using Text Blob"
   ]
  },
  {
   "cell_type": "code",
   "execution_count": 17,
   "metadata": {},
   "outputs": [
    {
     "data": {
      "text/html": [
       "<div>\n",
       "<style scoped>\n",
       "    .dataframe tbody tr th:only-of-type {\n",
       "        vertical-align: middle;\n",
       "    }\n",
       "\n",
       "    .dataframe tbody tr th {\n",
       "        vertical-align: top;\n",
       "    }\n",
       "\n",
       "    .dataframe thead th {\n",
       "        text-align: right;\n",
       "    }\n",
       "</style>\n",
       "<table border=\"1\" class=\"dataframe\">\n",
       "  <thead>\n",
       "    <tr style=\"text-align: right;\">\n",
       "      <th></th>\n",
       "      <th>cleantext</th>\n",
       "      <th>sentiment</th>\n",
       "    </tr>\n",
       "  </thead>\n",
       "  <tbody>\n",
       "    <tr>\n",
       "      <th>0</th>\n",
       "      <td>idrop news give away free iphon 11 februari en...</td>\n",
       "      <td>0.60</td>\n",
       "    </tr>\n",
       "    <tr>\n",
       "      <th>1</th>\n",
       "      <td>enter skinit iphon 11 giveaway chanc win brand...</td>\n",
       "      <td>0.47</td>\n",
       "    </tr>\n",
       "    <tr>\n",
       "      <th>2</th>\n",
       "      <td>enter chanc win iphon 11 256gb airpod special ...</td>\n",
       "      <td>0.58</td>\n",
       "    </tr>\n",
       "    <tr>\n",
       "      <th>3</th>\n",
       "      <td>okay new iphon 11 pro realli good video shit b...</td>\n",
       "      <td>0.28</td>\n",
       "    </tr>\n",
       "    <tr>\n",
       "      <th>4</th>\n",
       "      <td>know brooo iphone11</td>\n",
       "      <td>0.00</td>\n",
       "    </tr>\n",
       "  </tbody>\n",
       "</table>\n",
       "</div>"
      ],
      "text/plain": [
       "                                           cleantext  sentiment\n",
       "0  idrop news give away free iphon 11 februari en...       0.60\n",
       "1  enter skinit iphon 11 giveaway chanc win brand...       0.47\n",
       "2  enter chanc win iphon 11 256gb airpod special ...       0.58\n",
       "3  okay new iphon 11 pro realli good video shit b...       0.28\n",
       "4                                know brooo iphone11       0.00"
      ]
     },
     "execution_count": 17,
     "metadata": {},
     "output_type": "execute_result"
    }
   ],
   "source": [
    "data2['sentiment'] = data2['cleantext'].apply(lambda tweet: TextBlob(tweet).sentiment.polarity)\n",
    "data2[['cleantext','sentiment']].head()"
   ]
  },
  {
   "cell_type": "code",
   "execution_count": 18,
   "metadata": {},
   "outputs": [],
   "source": [
    "data2['sentiment_value'] = 0\n",
    "data2['sentiment_value'][data2['sentiment']>0] = 'Positive'\n",
    "data2['sentiment_value'][data2['sentiment']==0] = 'Neutral'\n",
    "data2['sentiment_value'][data2['sentiment']<0] = 'Negative'"
   ]
  },
  {
   "cell_type": "code",
   "execution_count": 19,
   "metadata": {},
   "outputs": [
    {
     "data": {
      "text/html": [
       "<div>\n",
       "<style scoped>\n",
       "    .dataframe tbody tr th:only-of-type {\n",
       "        vertical-align: middle;\n",
       "    }\n",
       "\n",
       "    .dataframe tbody tr th {\n",
       "        vertical-align: top;\n",
       "    }\n",
       "\n",
       "    .dataframe thead th {\n",
       "        text-align: right;\n",
       "    }\n",
       "</style>\n",
       "<table border=\"1\" class=\"dataframe\">\n",
       "  <thead>\n",
       "    <tr style=\"text-align: right;\">\n",
       "      <th></th>\n",
       "      <th>cleantext</th>\n",
       "      <th>sentiment_value</th>\n",
       "    </tr>\n",
       "  </thead>\n",
       "  <tbody>\n",
       "    <tr>\n",
       "      <th>0</th>\n",
       "      <td>idrop news give away free iphon 11 februari en...</td>\n",
       "      <td>Positive</td>\n",
       "    </tr>\n",
       "    <tr>\n",
       "      <th>1</th>\n",
       "      <td>enter skinit iphon 11 giveaway chanc win brand...</td>\n",
       "      <td>Positive</td>\n",
       "    </tr>\n",
       "    <tr>\n",
       "      <th>2</th>\n",
       "      <td>enter chanc win iphon 11 256gb airpod special ...</td>\n",
       "      <td>Positive</td>\n",
       "    </tr>\n",
       "    <tr>\n",
       "      <th>3</th>\n",
       "      <td>okay new iphon 11 pro realli good video shit b...</td>\n",
       "      <td>Positive</td>\n",
       "    </tr>\n",
       "    <tr>\n",
       "      <th>4</th>\n",
       "      <td>know brooo iphone11</td>\n",
       "      <td>Neutral</td>\n",
       "    </tr>\n",
       "    <tr>\n",
       "      <th>5</th>\n",
       "      <td>nyc iphon 11 pro max dope pic twitter com zwvb...</td>\n",
       "      <td>Neutral</td>\n",
       "    </tr>\n",
       "    <tr>\n",
       "      <th>6</th>\n",
       "      <td>want christma iphon 11 haha</td>\n",
       "      <td>Positive</td>\n",
       "    </tr>\n",
       "    <tr>\n",
       "      <th>7</th>\n",
       "      <td>would love win iphon 11 iphon model due phone ...</td>\n",
       "      <td>Positive</td>\n",
       "    </tr>\n",
       "    <tr>\n",
       "      <th>8</th>\n",
       "      <td>could appl card key iphon 11 sale appl cun pla...</td>\n",
       "      <td>Neutral</td>\n",
       "    </tr>\n",
       "    <tr>\n",
       "      <th>9</th>\n",
       "      <td>offens tener un iphon 11 actual suck http twit...</td>\n",
       "      <td>Neutral</td>\n",
       "    </tr>\n",
       "  </tbody>\n",
       "</table>\n",
       "</div>"
      ],
      "text/plain": [
       "                                           cleantext sentiment_value\n",
       "0  idrop news give away free iphon 11 februari en...        Positive\n",
       "1  enter skinit iphon 11 giveaway chanc win brand...        Positive\n",
       "2  enter chanc win iphon 11 256gb airpod special ...        Positive\n",
       "3  okay new iphon 11 pro realli good video shit b...        Positive\n",
       "4                                know brooo iphone11         Neutral\n",
       "5  nyc iphon 11 pro max dope pic twitter com zwvb...         Neutral\n",
       "6                        want christma iphon 11 haha        Positive\n",
       "7  would love win iphon 11 iphon model due phone ...        Positive\n",
       "8  could appl card key iphon 11 sale appl cun pla...         Neutral\n",
       "9  offens tener un iphon 11 actual suck http twit...         Neutral"
      ]
     },
     "execution_count": 19,
     "metadata": {},
     "output_type": "execute_result"
    }
   ],
   "source": [
    "data2[['cleantext','sentiment_value']].head(10)"
   ]
  },
  {
   "cell_type": "code",
   "execution_count": 20,
   "metadata": {},
   "outputs": [
    {
     "data": {
      "text/plain": [
       "Text(0.5, 1.0, 'Distribution of Sentiments of tweets on iPhone')"
      ]
     },
     "execution_count": 20,
     "metadata": {},
     "output_type": "execute_result"
    },
    {
     "data": {
      "image/png": "[encoded data removed]",
      "text/plain": [
       "<Figure size 1152x720 with 1 Axes>"
      ]
     },
     "metadata": {},
     "output_type": "display_data"
    }
   ],
   "source": [
    "data2.groupby(['sentiment_value'])['cleantext'].count().plot.pie(figsize = (16,10),fontsize = (15),autopct='%.2f')\n",
    "plt.title('Distribution of Sentiments of tweets on iPhone',fontsize = 15)"
   ]
  },
  {
   "cell_type": "code",
   "execution_count": 21,
   "metadata": {},
   "outputs": [
    {
     "data": {
      "text/plain": [
       "0        idrop news give away free iphon 11 februari en...\n",
       "1        enter skinit iphon 11 giveaway chanc win brand...\n",
       "2        enter chanc win iphon 11 256gb airpod special ...\n",
       "3        okay new iphon 11 pro realli good video shit b...\n",
       "6                              want christma iphon 11 haha\n",
       "7        would love win iphon 11 iphon model due phone ...\n",
       "10       cute cartoon kaw bear soft tpu phone case cove...\n",
       "11       iphone11 imyfonefixppo win free iphon 11 free ...\n",
       "12       donald see use iphon 11 pro camera great quali...\n",
       "13       lemm tick item sugar daddi fitbit airpod iphon...\n",
       "14       idrop news give away free iphon 11 pro max may...\n",
       "16       io 13 2 tip upcom airtag tracker smart batteri...\n",
       "17       idrop news give away free iphon 11 februari en...\n",
       "18                                iphon 11 qualiti cute af\n",
       "19       hi tanner fox follow spacestationgam get new i...\n",
       "23       liter got iphon 11 pro max coupl week ago genu...\n",
       "25       550 brand new appl iphon 11 64gb ee 1 year app...\n",
       "26       appl three eye iphon 11 pro add new capabl ewe...\n",
       "27                           get iphon 11 free actual suck\n",
       "28       iphon 11 clear case review worth 40 http buff ...\n",
       "30       real legit loyal honest sugarbabi need first 3...\n",
       "32       idrop news give away free iphon 11 pro max may...\n",
       "33       phone got caus mine work great got iphon 11 pr...\n",
       "34       world biggest compani appl say iphone11 sell b...\n",
       "38       idrop news give away free iphon 11 februari en...\n",
       "39                          peopl get new iphon 11 iphon x\n",
       "41       iphon 11 pro whiteston dome glass instal http ...\n",
       "42       appl iphon 11 pro max display repair price bes...\n",
       "44       iphon 11 pro max case flower ultra hybrid clea...\n",
       "47       pic twitter com quomlgm4xz hey chanc win brand...\n",
       "                               ...                        \n",
       "14175    urgent upgrad iphon 5 scare explod rt appl giv...\n",
       "14176    xdesign glass screen protector design iphon 11...\n",
       "14179    boot speed test iphon 11 pro max v iphon xr x ...\n",
       "14185    iphon 11 verizon phone deal save 50 iphon xr s...\n",
       "14188                         iphon xr iphon 11 real quick\n",
       "14189    urgent upgrad iphon 5 scare explod rt appl giv...\n",
       "14190    iphon 5 scare explod rt appl giveaway contest ...\n",
       "14191    meanwhil http amazon com mkeke compat iphon xr...\n",
       "14196    best resal valu wth iphon xr launch 76k sale a...\n",
       "14197    final take advantag appl trade program send pa...\n",
       "14200                 much differ iphon xr iphon 11 camera\n",
       "14202    lol iphon 11 piec garbag successor iphon xr ev...\n",
       "14205    hotchocol samsung galaxi s10 sleev moto g7 sof...\n",
       "14206    got new phone mine iphon xr gotten iphon 11 fa...\n",
       "14209    urgent upgrad iphon 5 scare explod rt appl giv...\n",
       "14210    urgent upgrad iphon 5 scare explod rt appl giv...\n",
       "14217    realli feel like never gonna get iphon 11 need...\n",
       "14218    great photo oscar lee past day daniel iphon 11...\n",
       "14219    iphonecas iphone6cas iphonesecas samsung iphon...\n",
       "14220    iphon 11 v iphon xr phone better buy price htt...\n",
       "14221    sale bomea cell phone belt holster case iphon ...\n",
       "14223    sale 2 pack supershieldz appl iphon 11 iphon x...\n",
       "14224    link spigen temper glass screen protector http...\n",
       "14228    backlon fair compar pixel 4 price iphon 11 nob...\n",
       "14229    iphon xr iphon 11 better camera videk qualiti ...\n",
       "14232    give first person messag manag free iphon xr p...\n",
       "14236    youtub latest updat bring hdr support iphon 11...\n",
       "14237    ye look use iphon xr need new iphon 11 sinc ma...\n",
       "14239    crazi design either feel like could done bette...\n",
       "14241    techtuesday trade work phone tablet u cash cre...\n",
       "Name: cleantext, Length: 5562, dtype: object"
      ]
     },
     "execution_count": 21,
     "metadata": {},
     "output_type": "execute_result"
    }
   ],
   "source": [
    "data2['cleantext'][data2['sentiment_value']=='Positive']"
   ]
  },
  {
   "cell_type": "markdown",
   "metadata": {},
   "source": [
    "### Tokenization and POS-Tagging"
   ]
  },
  {
   "cell_type": "code",
   "execution_count": 22,
   "metadata": {
    "scrolled": true
   },
   "outputs": [],
   "source": [
    "#tagged_sentence = nltk.tag.pos_tag(data['text'].split())\n",
    "texts = data2['cleantext'].tolist()"
   ]
  },
  {
   "cell_type": "code",
   "execution_count": 23,
   "metadata": {},
   "outputs": [],
   "source": [
    "# Creating tokens\n",
    "data2['tokens'] = data2['cleantext'].apply(lambda x : nltk.word_tokenize(x))\n",
    "#pos_tag_sents(nltk.word_tokenize( texts , lang = 'eng'))"
   ]
  },
  {
   "cell_type": "code",
   "execution_count": 24,
   "metadata": {},
   "outputs": [],
   "source": [
    "# Creating POS Tags\n",
    "data2['pos_tags'] = data2['tokens'].apply(lambda x : nltk.pos_tag(x))"
   ]
  },
  {
   "cell_type": "code",
   "execution_count": 25,
   "metadata": {
    "scrolled": false
   },
   "outputs": [],
   "source": [
    "#POS TAGS REMOVAL (NOUNS)\n",
    "for i in data2.index:\n",
    "    for j in range(1,len(data2.at[i,'pos_tags'])):\n",
    "            tag = data2.at[i,'pos_tags'][j][1]\n",
    "            word = data2.at[i,'pos_tags'][j][0]\n",
    "            if((tag in ['NN','NNPS','PRP','PRP$','FW','IN','MD','WP','WDT',]) & (word in data2.at[i,'tokens'])):               \n",
    "                x = data2.at[i,'tokens'].remove(word)"
   ]
  },
  {
   "cell_type": "code",
   "execution_count": 26,
   "metadata": {},
   "outputs": [
    {
     "data": {
      "text/html": [
       "<div>\n",
       "<style scoped>\n",
       "    .dataframe tbody tr th:only-of-type {\n",
       "        vertical-align: middle;\n",
       "    }\n",
       "\n",
       "    .dataframe tbody tr th {\n",
       "        vertical-align: top;\n",
       "    }\n",
       "\n",
       "    .dataframe thead th {\n",
       "        text-align: right;\n",
       "    }\n",
       "</style>\n",
       "<table border=\"1\" class=\"dataframe\">\n",
       "  <thead>\n",
       "    <tr style=\"text-align: right;\">\n",
       "      <th></th>\n",
       "      <th>index</th>\n",
       "      <th>cleantext</th>\n",
       "      <th>sentiment</th>\n",
       "      <th>sentiment_value</th>\n",
       "      <th>tokens</th>\n",
       "      <th>pos_tags</th>\n",
       "    </tr>\n",
       "  </thead>\n",
       "  <tbody>\n",
       "    <tr>\n",
       "      <th>0</th>\n",
       "      <td>0</td>\n",
       "      <td>idrop news give away free iphon 11 februari en...</td>\n",
       "      <td>0.60</td>\n",
       "      <td>Positive</td>\n",
       "      <td>[idrop, give, away, free, 11, win]</td>\n",
       "      <td>[(idrop, JJ), (news, NN), (give, VB), (away, R...</td>\n",
       "    </tr>\n",
       "    <tr>\n",
       "      <th>1</th>\n",
       "      <td>1</td>\n",
       "      <td>enter skinit iphon 11 giveaway chanc win brand...</td>\n",
       "      <td>0.47</td>\n",
       "      <td>Positive</td>\n",
       "      <td>[enter, 11, win, new, 11, pro, 9hxargx]</td>\n",
       "      <td>[(enter, NN), (skinit, NN), (iphon, NN), (11, ...</td>\n",
       "    </tr>\n",
       "    <tr>\n",
       "      <th>2</th>\n",
       "      <td>2</td>\n",
       "      <td>enter chanc win iphon 11 256gb airpod special ...</td>\n",
       "      <td>0.58</td>\n",
       "      <td>Positive</td>\n",
       "      <td>[enter, win, 11, 256gb, special, iphon, 11, 25...</td>\n",
       "      <td>[(enter, NN), (chanc, NN), (win, VBP), (iphon,...</td>\n",
       "    </tr>\n",
       "    <tr>\n",
       "      <th>3</th>\n",
       "      <td>3</td>\n",
       "      <td>okay new iphon 11 pro realli good video shit b...</td>\n",
       "      <td>0.28</td>\n",
       "      <td>Positive</td>\n",
       "      <td>[okay, new, 11, pro, good, shit, beauti, pic, ...</td>\n",
       "      <td>[(okay, JJ), (new, JJ), (iphon, NN), (11, CD),...</td>\n",
       "    </tr>\n",
       "    <tr>\n",
       "      <th>4</th>\n",
       "      <td>4</td>\n",
       "      <td>know brooo iphone11</td>\n",
       "      <td>0.00</td>\n",
       "      <td>Neutral</td>\n",
       "      <td>[know]</td>\n",
       "      <td>[(know, VB), (brooo, NN), (iphone11, NN)]</td>\n",
       "    </tr>\n",
       "  </tbody>\n",
       "</table>\n",
       "</div>"
      ],
      "text/plain": [
       "   index                                          cleantext  sentiment  \\\n",
       "0      0  idrop news give away free iphon 11 februari en...       0.60   \n",
       "1      1  enter skinit iphon 11 giveaway chanc win brand...       0.47   \n",
       "2      2  enter chanc win iphon 11 256gb airpod special ...       0.58   \n",
       "3      3  okay new iphon 11 pro realli good video shit b...       0.28   \n",
       "4      4                                know brooo iphone11       0.00   \n",
       "\n",
       "  sentiment_value                                             tokens  \\\n",
       "0        Positive                 [idrop, give, away, free, 11, win]   \n",
       "1        Positive            [enter, 11, win, new, 11, pro, 9hxargx]   \n",
       "2        Positive  [enter, win, 11, 256gb, special, iphon, 11, 25...   \n",
       "3        Positive  [okay, new, 11, pro, good, shit, beauti, pic, ...   \n",
       "4         Neutral                                             [know]   \n",
       "\n",
       "                                            pos_tags  \n",
       "0  [(idrop, JJ), (news, NN), (give, VB), (away, R...  \n",
       "1  [(enter, NN), (skinit, NN), (iphon, NN), (11, ...  \n",
       "2  [(enter, NN), (chanc, NN), (win, VBP), (iphon,...  \n",
       "3  [(okay, JJ), (new, JJ), (iphon, NN), (11, CD),...  \n",
       "4          [(know, VB), (brooo, NN), (iphone11, NN)]  "
      ]
     },
     "execution_count": 26,
     "metadata": {},
     "output_type": "execute_result"
    }
   ],
   "source": [
    "data2.head()"
   ]
  },
  {
   "cell_type": "code",
   "execution_count": 27,
   "metadata": {},
   "outputs": [],
   "source": [
    "# Separating Nouns, Verbs, Adverbs and Geo Tags\n",
    "data2['NN'] = ''\n",
    "data2['JJ'] = ''\n",
    "data2['VB'] = ''\n",
    "data2['GEO'] = ''\n",
    "\n",
    "def tweet_ner(chunker):\n",
    "    treestruct = ne_chunk(pos_tag(word_tokenize(chunker)))\n",
    "    entitynn = []\n",
    "    entityjj = []\n",
    "    entityg_air = []\n",
    "    entityvb = []\n",
    "    for y in str(treestruct).split('\\n'):\n",
    "        if 'GPE' in y or 'GSP' in y:\n",
    "            entityg_air.append(y)\n",
    "        elif '/VB' in y:\n",
    "            entityvb.append(y)\n",
    "        elif '/NN' in y:\n",
    "            entitynn.append(y)\n",
    "        elif '/JJ' in y:\n",
    "            entityjj.append(y)\n",
    "    stringnn = ''.join(entitynn)\n",
    "    stringjj = ''.join(entityjj)\n",
    "    stringvb = ''.join(entityvb)\n",
    "    stringg = ''.join(entityg_air)\n",
    "    return stringnn, stringjj, stringvb, stringg"
   ]
  },
  {
   "cell_type": "code",
   "execution_count": 28,
   "metadata": {},
   "outputs": [],
   "source": [
    "i = 0\n",
    "for x in data2['cleantext']:\n",
    "    entitycontainer = tweet_ner(x)\n",
    "    data2.at[i,'NN'] = entitycontainer[0]\n",
    "    data2.at[i,'JJ'] = entitycontainer[1]\n",
    "    data2.at[i,'VB'] = entitycontainer[2]\n",
    "    data2.at[i,'GEO'] = entitycontainer[3]\n",
    "    i += 1"
   ]
  },
  {
   "cell_type": "code",
   "execution_count": 29,
   "metadata": {},
   "outputs": [
    {
     "data": {
      "text/html": [
       "<div>\n",
       "<style scoped>\n",
       "    .dataframe tbody tr th:only-of-type {\n",
       "        vertical-align: middle;\n",
       "    }\n",
       "\n",
       "    .dataframe tbody tr th {\n",
       "        vertical-align: top;\n",
       "    }\n",
       "\n",
       "    .dataframe thead th {\n",
       "        text-align: right;\n",
       "    }\n",
       "</style>\n",
       "<table border=\"1\" class=\"dataframe\">\n",
       "  <thead>\n",
       "    <tr style=\"text-align: right;\">\n",
       "      <th></th>\n",
       "      <th>pos_tags</th>\n",
       "      <th>NN</th>\n",
       "      <th>JJ</th>\n",
       "      <th>VB</th>\n",
       "    </tr>\n",
       "  </thead>\n",
       "  <tbody>\n",
       "    <tr>\n",
       "      <th>0</th>\n",
       "      <td>[(idrop, JJ), (news, NN), (give, VB), (away, R...</td>\n",
       "      <td>news/NN  iphon/NN  februari/NN  enter/NN  ht...</td>\n",
       "      <td>idrop/JJ  free/JJ</td>\n",
       "      <td>give/VB  win/VBP</td>\n",
       "    </tr>\n",
       "    <tr>\n",
       "      <th>1</th>\n",
       "      <td>[(enter, NN), (skinit, NN), (iphon, NN), (11, ...</td>\n",
       "      <td>enter/NN  skinit/NN  iphon/NN  giveaway/NN  ...</td>\n",
       "      <td>new/JJ  pro/JJ</td>\n",
       "      <td>win/VBP</td>\n",
       "    </tr>\n",
       "    <tr>\n",
       "      <th>2</th>\n",
       "      <td>[(enter, NN), (chanc, NN), (win, VBP), (iphon,...</td>\n",
       "      <td>enter/NN  chanc/NN  iphon/NN  airpod/NN  edi...</td>\n",
       "      <td>special/JJ</td>\n",
       "      <td>win/VBP  iphon/VBZ  gid/VBD</td>\n",
       "    </tr>\n",
       "    <tr>\n",
       "      <th>3</th>\n",
       "      <td>[(okay, JJ), (new, JJ), (iphon, NN), (11, CD),...</td>\n",
       "      <td>iphon/NN  video/NN  day/NN  twitter/NN  com/NN</td>\n",
       "      <td>okay/JJ  new/JJ  pro/JJ  good/JJ  shit/JJ  b...</td>\n",
       "      <td>pic/VB</td>\n",
       "    </tr>\n",
       "    <tr>\n",
       "      <th>4</th>\n",
       "      <td>[(know, VB), (brooo, NN), (iphone11, NN)]</td>\n",
       "      <td></td>\n",
       "      <td></td>\n",
       "      <td>(S know/VB brooo/NN iphone11/NN)</td>\n",
       "    </tr>\n",
       "  </tbody>\n",
       "</table>\n",
       "</div>"
      ],
      "text/plain": [
       "                                            pos_tags  \\\n",
       "0  [(idrop, JJ), (news, NN), (give, VB), (away, R...   \n",
       "1  [(enter, NN), (skinit, NN), (iphon, NN), (11, ...   \n",
       "2  [(enter, NN), (chanc, NN), (win, VBP), (iphon,...   \n",
       "3  [(okay, JJ), (new, JJ), (iphon, NN), (11, CD),...   \n",
       "4          [(know, VB), (brooo, NN), (iphone11, NN)]   \n",
       "\n",
       "                                                  NN  \\\n",
       "0    news/NN  iphon/NN  februari/NN  enter/NN  ht...   \n",
       "1    enter/NN  skinit/NN  iphon/NN  giveaway/NN  ...   \n",
       "2    enter/NN  chanc/NN  iphon/NN  airpod/NN  edi...   \n",
       "3     iphon/NN  video/NN  day/NN  twitter/NN  com/NN   \n",
       "4                                                      \n",
       "\n",
       "                                                  JJ  \\\n",
       "0                                  idrop/JJ  free/JJ   \n",
       "1                                     new/JJ  pro/JJ   \n",
       "2                                         special/JJ   \n",
       "3    okay/JJ  new/JJ  pro/JJ  good/JJ  shit/JJ  b...   \n",
       "4                                                      \n",
       "\n",
       "                                 VB  \n",
       "0                  give/VB  win/VBP  \n",
       "1                           win/VBP  \n",
       "2       win/VBP  iphon/VBZ  gid/VBD  \n",
       "3                            pic/VB  \n",
       "4  (S know/VB brooo/NN iphone11/NN)  "
      ]
     },
     "execution_count": 29,
     "metadata": {},
     "output_type": "execute_result"
    }
   ],
   "source": [
    "data2[['pos_tags','NN','JJ','VB']].head()"
   ]
  },
  {
   "cell_type": "code",
   "execution_count": 30,
   "metadata": {},
   "outputs": [],
   "source": [
    "for i in data2.head(10).index:\n",
    "    data2['NN']=data2['NN'].apply(lambda x: \",\".join(word for word in x.split('/NN')))\n",
    "    data2['JJ']=data2['JJ'].apply(lambda x: \",\".join(word for word in x.split('/JJ')))\n",
    "    data2['VB']=data2['VB'].apply(lambda x: \",\".join(word for word in x.split('/VB')))\n",
    "    "
   ]
  },
  {
   "cell_type": "markdown",
   "metadata": {},
   "source": [
    "### Analyzing Nouns, Verbs & Adjectives "
   ]
  },
  {
   "cell_type": "code",
   "execution_count": 57,
   "metadata": {},
   "outputs": [
    {
     "data": {
      "image/png": "[encoded data removed]",
      "text/plain": [
       "<Figure size 1008x432 with 1 Axes>"
      ]
     },
     "metadata": {
      "needs_background": "light"
     },
     "output_type": "display_data"
    }
   ],
   "source": [
    "vectorizer = CountVectorizer()\n",
    "tokens_data_NN = pd.DataFrame(vectorizer.fit_transform(data2['NN']).toarray(), columns=vectorizer.get_feature_names())\n",
    "a=pd.DataFrame(tokens_data_NN.sum(axis=0,skipna=True))\n",
    "x = a.rename(columns={0:'count'}).reset_index().rename(columns={'index':'word'}).sort_values(by='count',ascending=False)\n",
    "\n",
    "list_iphone = ['11','xs','pro','max','iphonex','xr','x','iphone7','iphone8','iphone8plus','iphonexsmax','iphon','com','http'\n",
    "              ,'twitter','phone','appl','www','jj','cd','plu','igshid','iphonexr']\n",
    "x[~x['word'].isin(list_iphone)].head(10).plot(y='count',x='word',kind='bar',color='blue',figsize=(14,6),fontsize = 15)\n",
    "plt.xlabel('Most Frequent Words',fontsize = 15);\n",
    "plt.ylabel('Frequency',fontsize = 15);\n",
    "plt.title('Most Frequent Nouns', fontsize = 15);"
   ]
  },
  {
   "cell_type": "code",
   "execution_count": 52,
   "metadata": {},
   "outputs": [
    {
     "data": {
      "image/png": "[encoded data removed]",
      "text/plain": [
       "<Figure size 1008x432 with 1 Axes>"
      ]
     },
     "metadata": {
      "needs_background": "light"
     },
     "output_type": "display_data"
    }
   ],
   "source": [
    "vectorizer = CountVectorizer()\n",
    "tokens_data_JJ = pd.DataFrame(vectorizer.fit_transform(data2['JJ']).toarray(), columns=vectorizer.get_feature_names())\n",
    "b=pd.DataFrame(tokens_data_JJ.sum(axis=0,skipna=True))\n",
    "x1 = b.rename(columns={0:'count'}).reset_index().rename(columns={'index':'word'}).sort_values(by='count',ascending=False)\n",
    "\n",
    "list_iphone = ['http','appl','iphon','pro','iphone11pro','utm','iphone11','ly']\n",
    "x1[~x1['word'].isin(list_iphone)].head(10).plot(y='count',x='word',kind='bar',color='red',figsize=(14,6),fontsize = 15)\n",
    "plt.xlabel('Most Frequent Words',fontsize = 15);\n",
    "plt.ylabel('Frequency',fontsize = 15);\n",
    "plt.title('Most Frequent Adjectives', fontsize = 15);"
   ]
  },
  {
   "cell_type": "code",
   "execution_count": 61,
   "metadata": {},
   "outputs": [
    {
     "data": {
      "image/png": "[encoded data removed]",
      "text/plain": [
       "<Figure size 1008x432 with 1 Axes>"
      ]
     },
     "metadata": {
      "needs_background": "light"
     },
     "output_type": "display_data"
    }
   ],
   "source": [
    "vectorizer = CountVectorizer()\n",
    "tokens_data_VB = pd.DataFrame(vectorizer.fit_transform(data2['VB']).toarray(), columns=vectorizer.get_feature_names())\n",
    "c=pd.DataFrame(tokens_data_VB.sum(axis=0,skipna=True))\n",
    "y = c.rename(columns={0:'count'}).reset_index().rename(columns={'index':'word'}).sort_values(by='count',ascending=False)\n",
    "\n",
    "list_iphone = ['11','xs','pro','max','iphonex','xr','x','iphone7','iphone8','iphone8plus','iphonexsmax','iphon','com','http'\n",
    "              ,'twitter','phone','appl','www','jj','cd','plu','igshid','iphonexr','nn','nnp','io']\n",
    "y[~y['word'].isin(list_iphone)].head(10).plot(y='count',x='word',kind='bar',color='black',figsize=(14,6),fontsize = 15)\n",
    "plt.xlabel('Most Frequent Words',fontsize = 15);\n",
    "plt.ylabel('Frequency',fontsize = 15);\n",
    "plt.title('Most Frequent Verbs', fontsize = 15);"
   ]
  },
  {
   "cell_type": "markdown",
   "metadata": {},
   "source": [
    "### WORD Clouds"
   ]
  },
  {
   "cell_type": "code",
   "execution_count": 538,
   "metadata": {},
   "outputs": [
    {
     "data": {
      "image/png": "[encoded data removed]",
      "text/plain": [
       "<Figure size 432x288 with 1 Axes>"
      ]
     },
     "metadata": {
      "needs_background": "light"
     },
     "output_type": "display_data"
    }
   ],
   "source": [
    "# Create and generate a word cloud image:\n",
    "stopwords =  set(STOPWORDS)\n",
    "stopwords.update(['iphone','11','xs','max','pro','iphon','xr','appl','new','win'])\n",
    "\n",
    "wc = WordCloud(stopwords = stopwords,max_words = 20,width=1800,height=1000,background_color=\"lightgreen\").generate(str(data2['tokens'][data2['sentiment_value']=='Positive']))\n",
    "\n",
    "# Display the generated image:\n",
    "plt.imshow(wc, interpolation='bilinear')\n",
    "plt.axis(\"off\")\n",
    "plt.margins(x=10, y=10) \n",
    "plt.show()"
   ]
  },
  {
   "cell_type": "code",
   "execution_count": 541,
   "metadata": {},
   "outputs": [
    {
     "data": {
      "image/png": "[encoded data removed]",
      "text/plain": [
       "<Figure size 432x288 with 1 Axes>"
      ]
     },
     "metadata": {
      "needs_background": "light"
     },
     "output_type": "display_data"
    }
   ],
   "source": [
    "# Create and generate a word cloud image:\n",
    "stopwords =  set(STOPWORDS)\n",
    "stopwords.update(['iphone','11','xs','max','pro','iphon','xr','appl','new','win'])\n",
    "\n",
    "wc = WordCloud(stopwords = stopwords,max_words = 20,width=1800,height=1000,background_color=\"red\").generate(str(data2['tokens'][data2['sentiment_value']=='Negative']))\n",
    "\n",
    "# Display the generated image:\n",
    "plt.imshow(wc, interpolation='bilinear')\n",
    "plt.axis(\"off\")\n",
    "plt.margins(x=10, y=10) \n",
    "plt.show()"
   ]
  },
  {
   "cell_type": "code",
   "execution_count": 543,
   "metadata": {},
   "outputs": [
    {
     "data": {
      "image/png": "[encoded data removed]",
      "text/plain": [
       "<Figure size 432x288 with 1 Axes>"
      ]
     },
     "metadata": {
      "needs_background": "light"
     },
     "output_type": "display_data"
    }
   ],
   "source": [
    "# Create and generate a word cloud image:\n",
    "stopwords =  set(STOPWORDS)\n",
    "stopwords.update(['iphone','11','xs','max','pro','iphon','xr','appl','new','win','256gb','64gb'])\n",
    "\n",
    "wc = WordCloud(stopwords = stopwords,max_words = 20,width=1800,height=1000,background_color=\"white\").generate(str(data2['tokens'][data2['sentiment_value']=='Neutral']))\n",
    "\n",
    "# Display the generated image:\n",
    "plt.imshow(wc, interpolation='bilinear')\n",
    "plt.axis(\"off\")\n",
    "plt.margins(x=10, y=10) \n",
    "plt.show()"
   ]
  },
  {
   "cell_type": "markdown",
   "metadata": {},
   "source": [
    "### TEXT Topics - NMF Method"
   ]
  },
  {
   "cell_type": "code",
   "execution_count": 76,
   "metadata": {},
   "outputs": [
    {
     "data": {
      "text/html": [
       "<div>\n",
       "<style scoped>\n",
       "    .dataframe tbody tr th:only-of-type {\n",
       "        vertical-align: middle;\n",
       "    }\n",
       "\n",
       "    .dataframe tbody tr th {\n",
       "        vertical-align: top;\n",
       "    }\n",
       "\n",
       "    .dataframe thead th {\n",
       "        text-align: right;\n",
       "    }\n",
       "</style>\n",
       "<table border=\"1\" class=\"dataframe\">\n",
       "  <thead>\n",
       "    <tr style=\"text-align: right;\">\n",
       "      <th></th>\n",
       "      <th>index</th>\n",
       "      <th>cleantext</th>\n",
       "      <th>sentiment</th>\n",
       "      <th>sentiment_value</th>\n",
       "      <th>tokens</th>\n",
       "      <th>pos_tags</th>\n",
       "      <th>NN</th>\n",
       "      <th>JJ</th>\n",
       "      <th>VB</th>\n",
       "      <th>GEO</th>\n",
       "    </tr>\n",
       "  </thead>\n",
       "  <tbody>\n",
       "    <tr>\n",
       "      <th>0</th>\n",
       "      <td>0</td>\n",
       "      <td>idrop news give away free iphon 11 februari en...</td>\n",
       "      <td>0.60</td>\n",
       "      <td>Positive</td>\n",
       "      <td>[idrop, give, away, free, 11, win]</td>\n",
       "      <td>[(idrop, JJ), (news, NN), (give, VB), (away, R...</td>\n",
       "      <td>news,  iphon,  februari,  enter,  http,  wn,...</td>\n",
       "      <td>idrop,  free,</td>\n",
       "      <td>give,  win,P</td>\n",
       "      <td></td>\n",
       "    </tr>\n",
       "    <tr>\n",
       "      <th>1</th>\n",
       "      <td>1</td>\n",
       "      <td>enter skinit iphon 11 giveaway chanc win brand...</td>\n",
       "      <td>0.47</td>\n",
       "      <td>Positive</td>\n",
       "      <td>[enter, 11, win, new, 11, pro, 9hxargx]</td>\n",
       "      <td>[(enter, NN), (skinit, NN), (iphon, NN), (11, ...</td>\n",
       "      <td>enter,  skinit,  iphon,  giveaway,  chanc,  ...</td>\n",
       "      <td>new,  pro,</td>\n",
       "      <td>win,P</td>\n",
       "      <td></td>\n",
       "    </tr>\n",
       "    <tr>\n",
       "      <th>2</th>\n",
       "      <td>2</td>\n",
       "      <td>enter chanc win iphon 11 256gb airpod special ...</td>\n",
       "      <td>0.58</td>\n",
       "      <td>Positive</td>\n",
       "      <td>[enter, win, 11, 256gb, special, iphon, 11, 25...</td>\n",
       "      <td>[(enter, NN), (chanc, NN), (win, VBP), (iphon,...</td>\n",
       "      <td>enter,  chanc,  iphon,  airpod,  edit,  belk...</td>\n",
       "      <td>special,</td>\n",
       "      <td>win,P  iphon,Z  gid,D</td>\n",
       "      <td></td>\n",
       "    </tr>\n",
       "    <tr>\n",
       "      <th>3</th>\n",
       "      <td>3</td>\n",
       "      <td>okay new iphon 11 pro realli good video shit b...</td>\n",
       "      <td>0.28</td>\n",
       "      <td>Positive</td>\n",
       "      <td>[okay, new, 11, pro, good, shit, beauti, pic, ...</td>\n",
       "      <td>[(okay, JJ), (new, JJ), (iphon, NN), (11, CD),...</td>\n",
       "      <td>iphon,  video,  day,  twitter,  com,</td>\n",
       "      <td>okay,  new,  pro,  good,  shit,  beauti,</td>\n",
       "      <td>pic,</td>\n",
       "      <td></td>\n",
       "    </tr>\n",
       "    <tr>\n",
       "      <th>4</th>\n",
       "      <td>4</td>\n",
       "      <td>know brooo iphone11</td>\n",
       "      <td>0.00</td>\n",
       "      <td>Neutral</td>\n",
       "      <td>[know]</td>\n",
       "      <td>[(know, VB), (brooo, NN), (iphone11, NN)]</td>\n",
       "      <td></td>\n",
       "      <td></td>\n",
       "      <td>(S know, brooo/NN iphone11/NN)</td>\n",
       "      <td></td>\n",
       "    </tr>\n",
       "  </tbody>\n",
       "</table>\n",
       "</div>"
      ],
      "text/plain": [
       "   index                                          cleantext  sentiment  \\\n",
       "0      0  idrop news give away free iphon 11 februari en...       0.60   \n",
       "1      1  enter skinit iphon 11 giveaway chanc win brand...       0.47   \n",
       "2      2  enter chanc win iphon 11 256gb airpod special ...       0.58   \n",
       "3      3  okay new iphon 11 pro realli good video shit b...       0.28   \n",
       "4      4                                know brooo iphone11       0.00   \n",
       "\n",
       "  sentiment_value                                             tokens  \\\n",
       "0        Positive                 [idrop, give, away, free, 11, win]   \n",
       "1        Positive            [enter, 11, win, new, 11, pro, 9hxargx]   \n",
       "2        Positive  [enter, win, 11, 256gb, special, iphon, 11, 25...   \n",
       "3        Positive  [okay, new, 11, pro, good, shit, beauti, pic, ...   \n",
       "4         Neutral                                             [know]   \n",
       "\n",
       "                                            pos_tags  \\\n",
       "0  [(idrop, JJ), (news, NN), (give, VB), (away, R...   \n",
       "1  [(enter, NN), (skinit, NN), (iphon, NN), (11, ...   \n",
       "2  [(enter, NN), (chanc, NN), (win, VBP), (iphon,...   \n",
       "3  [(okay, JJ), (new, JJ), (iphon, NN), (11, CD),...   \n",
       "4          [(know, VB), (brooo, NN), (iphone11, NN)]   \n",
       "\n",
       "                                                  NN  \\\n",
       "0    news,  iphon,  februari,  enter,  http,  wn,...   \n",
       "1    enter,  skinit,  iphon,  giveaway,  chanc,  ...   \n",
       "2    enter,  chanc,  iphon,  airpod,  edit,  belk...   \n",
       "3               iphon,  video,  day,  twitter,  com,   \n",
       "4                                                      \n",
       "\n",
       "                                           JJ                              VB  \\\n",
       "0                               idrop,  free,                    give,  win,P   \n",
       "1                                  new,  pro,                           win,P   \n",
       "2                                    special,           win,P  iphon,Z  gid,D   \n",
       "3    okay,  new,  pro,  good,  shit,  beauti,                            pic,   \n",
       "4                                              (S know, brooo/NN iphone11/NN)   \n",
       "\n",
       "  GEO  \n",
       "0      \n",
       "1      \n",
       "2      \n",
       "3      \n",
       "4      "
      ]
     },
     "execution_count": 76,
     "metadata": {},
     "output_type": "execute_result"
    }
   ],
   "source": [
    "data2.head()"
   ]
  },
  {
   "cell_type": "code",
   "execution_count": 85,
   "metadata": {},
   "outputs": [
    {
     "data": {
      "text/plain": [
       "NMF(alpha=0.0, beta_loss='frobenius', init=None, l1_ratio=0.0, max_iter=200,\n",
       "  n_components=5, random_state=42, shuffle=False, solver='cd', tol=0.0001,\n",
       "  verbose=0)"
      ]
     },
     "execution_count": 85,
     "metadata": {},
     "output_type": "execute_result"
    }
   ],
   "source": [
    "tfidf_vect = TfidfVectorizer(max_df=0.8, min_df=5, stop_words='english')\n",
    "doc_term_matrix2 = tfidf_vect.fit_transform(data2['cleantext'].values.astype('U'))\n",
    "nmf = NMF(n_components=5, random_state=42)\n",
    "nmf.fit(doc_term_matrix2)"
   ]
  },
  {
   "cell_type": "code",
   "execution_count": 86,
   "metadata": {},
   "outputs": [
    {
     "name": "stdout",
     "output_type": "stream",
     "text": [
      "fusion\n",
      "use\n",
      "like\n",
      "featur\n",
      "new\n",
      "got\n",
      "want\n",
      "camera\n",
      "pro\n",
      "11\n"
     ]
    }
   ],
   "source": [
    "first_topic = nmf.components_[0]\n",
    "top_topic_words = first_topic.argsort()[-10:]\n",
    "\n",
    "for i in top_topic_words:\n",
    "    print(tfidf_vect.get_feature_names()[i])"
   ]
  },
  {
   "cell_type": "code",
   "execution_count": 89,
   "metadata": {},
   "outputs": [
    {
     "name": "stdout",
     "output_type": "stream",
     "text": [
      "64gb\n",
      "protector\n",
      "iphonex\n",
      "plu\n",
      "screen\n",
      "phone\n",
      "case\n",
      "appl\n",
      "pic\n",
      "xr\n"
     ]
    }
   ],
   "source": [
    "second_topic = nmf.components_[1]\n",
    "top_topic_words = second_topic.argsort()[-10:]\n",
    "\n",
    "for i in top_topic_words:\n",
    "    print(tfidf_vect.get_feature_names()[i])"
   ]
  },
  {
   "cell_type": "code",
   "execution_count": 90,
   "metadata": {},
   "outputs": [
    {
     "name": "stdout",
     "output_type": "stream",
     "text": [
      "11\n",
      "new\n",
      "io\n",
      "brand\n",
      "skinit\n",
      "gvwi\n",
      "chanc\n",
      "giveaway\n",
      "enter\n",
      "win\n"
     ]
    }
   ],
   "source": [
    "third_topic = nmf.components_[2]\n",
    "top_topic_words = third_topic.argsort()[-10:]\n",
    "\n",
    "for i in top_topic_words:\n",
    "    print(tfidf_vect.get_feature_names()[i])"
   ]
  }
 ],
 "metadata": {
  "kernelspec": {
   "display_name": "Python 3",
   "language": "python",
   "name": "python3"
  },
  "language_info": {
   "codemirror_mode": {
    "name": "ipython",
    "version": 3
   },
   "file_extension": ".py",
   "mimetype": "text/x-python",
   "name": "python",
   "nbconvert_exporter": "python",
   "pygments_lexer": "ipython3",
   "version": "3.6.8"
  }
 },
 "nbformat": 4,
 "nbformat_minor": 2
}
